{
 "cells": [
  {
   "metadata": {},
   "cell_type": "markdown",
   "source": "# Data Science Tools and Ecosystem",
   "id": "6cb327ac03686357"
  },
  {
   "metadata": {
    "jupyter": {
     "is_executing": true
    }
   },
   "cell_type": "markdown",
   "source": [
    "### Introduction:\n",
    "In this notebook, the various tools and the overall ecosystem for Data Science are summarized. We will cover popular languages, libraries, and open-source environments that are essential for any data scientist."
   ],
   "id": "407efd2c3a930ad0"
  },
  {
   "metadata": {},
   "cell_type": "markdown",
   "source": [
    "### Packages:\n",
    "### Some of the popular languages that Data Scientists use are:\n",
    "\n",
    "1.  Python\n",
    "2.  R\n",
    "3.  SQL"
   ],
   "id": "fb4692e4059ecb4c"
  },
  {
   "metadata": {
    "ExecuteTime": {
     "end_time": "2025-09-13T17:22:23.099740Z",
     "start_time": "2025-09-13T17:22:23.056755Z"
    }
   },
   "cell_type": "markdown",
   "source": [
    "### Libraries and PAckages:\n",
    "**Some of the commonly used libraries by Data Scientists, categorized by language, include:**\n",
    "\n",
    "### Python Libraries\n",
    "* **Pandas:** Used for data manipulation and analysis, particularly with data structures like the DataFrame.\n",
    "* **NumPy:** Fundamental for scientific computing, providing support for large, multi-dimensional arrays and matrices.\n",
    "* **Scikit-learn:** The go-to library for machine learning, offering tools for classification, regression, clustering, and more. 🧑‍🔬\n",
    "* **Matplotlib:** A comprehensive library for creating static, animated, and interactive visualizations.\n",
    "\n",
    "### R Libraries\n",
    "* **ggplot2:** A powerful and popular package for creating elegant and complex data visualizations based on the \"Grammar of Graphics\". 📊\n",
    "* **dplyr:** Part of the Tidyverse, it provides a fast and consistent set of tools for data manipulation.\n",
    "* **caret:** A package designed to streamline the process for predictive modeling, from training to evaluation."
   ],
   "id": "2930a4c33ab4cf5b"
  },
  {
   "metadata": {},
   "cell_type": "markdown",
   "source": [
    "### Table if DS Tools:\n",
    "\n",
    "| Tool              | Description                                                                                          |\n",
    "|-------------------|------------------------------------------------------------------------------------------------------|\n",
    "| Jupyter Notebooks | An open-source web application for creating documents with live code, equations, and visualizations. |\n",
    "| RStudio           | The primary integrated development environment (IDE) for the R programming language.                 |\n",
    "| Apache Spark      | A unified analytics engine for large-scale data processing and machine learning. 🚀                    |\n",
    "| PyCharm Pro       | A powerful Python IDE with robust features for scientific computing and data science workflows.        |\n",
    "| DataSpell         | A specialized IDE by JetBrains, tailored specifically for exploratory data analysis and ML.            |\n",
    "| IBM Watson Studio | An integrated cloud platform for building, running, and managing AI models at scale.                 |"
   ],
   "id": "241f3f8a3e706cd1"
  },
  {
   "metadata": {
    "ExecuteTime": {
     "end_time": "2025-09-13T17:26:36.286907Z",
     "start_time": "2025-09-13T17:26:36.271659Z"
    }
   },
   "cell_type": "markdown",
   "source": "### Below are a few examples of evaluating arithmetic expressions in Python.",
   "id": "6fa31ee21356d900"
  },
  {
   "metadata": {
    "ExecuteTime": {
     "end_time": "2025-09-13T17:29:25.398518Z",
     "start_time": "2025-09-13T17:29:25.387517Z"
    }
   },
   "cell_type": "code",
   "source": [
    "# This a simple arithmetic expression to mutiply then add integers.\n",
    "(3*4)+5"
   ],
   "id": "f734bab4f4112d49",
   "outputs": [
    {
     "data": {
      "text/plain": [
       "17"
      ]
     },
     "execution_count": 7,
     "metadata": {},
     "output_type": "execute_result"
    }
   ],
   "execution_count": 7
  },
  {
   "metadata": {
    "ExecuteTime": {
     "end_time": "2025-09-13T17:29:54.110246Z",
     "start_time": "2025-09-13T17:29:54.103408Z"
    }
   },
   "cell_type": "code",
   "source": [
    "# This will convert 200 minutes to hours by dividing by 60.\n",
    "def minutes_to_hours(minutes):\n",
    "  \"\"\"\n",
    "  Converts a given number of minutes into hours.\n",
    "  \"\"\"\n",
    "  return minutes / 60\n",
    "\n",
    "# Convert 200 minutes to hours using the function\n",
    "minutes_to_hours(120)"
   ],
   "id": "54c928870d56574",
   "outputs": [
    {
     "data": {
      "text/plain": [
       "2.0"
      ]
     },
     "execution_count": 9,
     "metadata": {},
     "output_type": "execute_result"
    }
   ],
   "execution_count": 9
  },
  {
   "metadata": {},
   "cell_type": "markdown",
   "source": [
    "### Objectives:\n",
    "* List popular languages for Data Science.\n",
    "* List commonly used libraries in Data Science.\n",
    "* Create a table of popular open-source tools for Data Science.\n",
    "* Demonstrate simple arithmetic expressions in a Python code cell.\n",
    "* Demonstrate a function to convert minutes to hours in a Python code cell."
   ],
   "id": "b4aef98429dd0431"
  },
  {
   "metadata": {},
   "cell_type": "markdown",
   "source": "### Author's name: Sidnei Alves de Almeida ❤️",
   "id": "9c76216db6e29931"
  },
  {
   "metadata": {},
   "cell_type": "code",
   "outputs": [],
   "execution_count": null,
   "source": "",
   "id": "6b6503241cb91ca0"
  }
 ],
 "metadata": {
  "kernelspec": {
   "display_name": "Python 3",
   "language": "python",
   "name": "python3"
  },
  "language_info": {
   "codemirror_mode": {
    "name": "ipython",
    "version": 2
   },
   "file_extension": ".py",
   "mimetype": "text/x-python",
   "name": "python",
   "nbconvert_exporter": "python",
   "pygments_lexer": "ipython2",
   "version": "2.7.6"
  }
 },
 "nbformat": 4,
 "nbformat_minor": 5
}
